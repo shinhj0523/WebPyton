{
 "cells": [
  {
   "cell_type": "code",
   "execution_count": null,
   "metadata": {},
   "outputs": [],
   "source": []
  },
  {
   "cell_type": "code",
   "execution_count": null,
   "metadata": {},
   "outputs": [],
   "source": []
  },
  {
   "cell_type": "code",
   "execution_count": null,
   "metadata": {},
   "outputs": [],
   "source": []
  },
  {
   "cell_type": "code",
   "execution_count": 1,
   "metadata": {},
   "outputs": [],
   "source": [
    "import pandas as pd\n",
    "import glob\n",
    "import os\n",
    "from geopy.geocoders import Nominatim\n",
    "from geopy.distance import great_circle\n",
    "import folium"
   ]
  },
  {
   "cell_type": "markdown",
   "metadata": {},
   "source": []
  },
  {
   "cell_type": "code",
   "execution_count": 2,
   "metadata": {},
   "outputs": [],
   "source": [
    "# 데이터 전처리"
   ]
  },
  {
   "cell_type": "code",
   "execution_count": 5,
   "metadata": {},
   "outputs": [],
   "source": [
    "path = 'DataSets/'\n",
    "allFiles = glob.glob(os.path.join(path+\"*.csv\"))\n",
    "\n",
    "df = pd.DataFrame()\n",
    "for file in allFiles:\n",
    "    \n",
    "    temp = pd.read_csv(file, engine='python', encoding='utf-8')\n",
    "    df = pd.concat([df, temp])"
   ]
  },
  {
   "cell_type": "code",
   "execution_count": 6,
   "metadata": {},
   "outputs": [
    {
     "data": {
      "text/plain": [
       "Index(['상가업소번호', '상호명', '지점명', '상권업종대분류코드', '상권업종대분류명', '상권업종중분류코드',\n",
       "       '상권업종중분류명', '상권업종소분류코드', '상권업종소분류명', '표준산업분류코드', '표준산업분류명', '시도코드',\n",
       "       '시도명', '시군구코드', '시군구명', '행정동코드', '행정동명', '법정동코드', '법정동명', '지번코드',\n",
       "       '대지구분코드', '대지구분명', '지번본번지', '지번부번지', '지번주소', '도로명코드', '도로명', '건물본번지',\n",
       "       '건물부번지', '건물관리번호', '건물명', '도로명주소', '구우편번호', '신우편번호', '동정보', '층정보',\n",
       "       '호정보', '경도', '위도', 'Unnamed: 0'],\n",
       "      dtype='object')"
      ]
     },
     "execution_count": 6,
     "metadata": {},
     "output_type": "execute_result"
    }
   ],
   "source": [
    "df.columns"
   ]
  },
  {
   "cell_type": "code",
   "execution_count": 8,
   "metadata": {},
   "outputs": [],
   "source": [
    "df.to_csv('DataSets/DataFrame.csv')"
   ]
  },
  {
   "cell_type": "code",
   "execution_count": 4,
   "metadata": {},
   "outputs": [],
   "source": [
    "dataset = df[['상가업소번호','상호명','지점명',\n",
    "              '상권업종대분류명', '상권업종중분류명','상권업종소분류명'\n",
    "              '시도명', '시군구명', '행정동명',\n",
    "              '위도', '경도']]"
   ]
  },
  {
   "cell_type": "code",
   "execution_count": 5,
   "metadata": {},
   "outputs": [],
   "source": [
    "df_coffee = dataset[(dataset['상권업종중분류명']=='커피점/카페')]\n",
    "df_seoul_starbucks = df_coffee[df_coffee['상호명'].str.contains('스타벅스')]"
   ]
  },
  {
   "cell_type": "code",
   "execution_count": null,
   "metadata": {},
   "outputs": [],
   "source": []
  },
  {
   "cell_type": "code",
   "execution_count": 24,
   "metadata": {},
   "outputs": [],
   "source": [
    "class CountByWGS84:\n",
    "\n",
    "    def __init__(self, df, lat, lon, dist=1):\n",
    "\n",
    "        self.df = df\n",
    "        self.lat = lat\n",
    "        self.lon = lon\n",
    "        self.dist = dist\n",
    "    \n",
    "    \n",
    "    def filter_by_radius(self):\n",
    "        lat_min = self.lat - 0.01 * self.dist\n",
    "        lat_max = self.lat + 0.01 * self.dist\n",
    "\n",
    "        lon_min = self.lon - 0.015 * self.dist\n",
    "        lon_max = self.lon + 0.015 * self.dist\n",
    "\n",
    "        self.points = [[lat_min, lon_min], [lat_max, lon_max]]\n",
    "\n",
    "        filterResult = self.df.loc[\n",
    "            (self.df['위도'] > lat_min) &\n",
    "            (self.df['위도'] < lat_max) &\n",
    "            (self.df['경도'] > lon_min) &\n",
    "            (self.df['경도'] < lon_max)\n",
    "        ]\n",
    "        filterResult.index = range(len(filterResult))\n",
    "        print(filterResult)\n",
    "\n",
    "\n",
    "        # 기준 좌표 포인트\n",
    "        center = (self.lat, self.lon)\n",
    "\n",
    "        result = pd.DataFrame()\n",
    "        for index, row in filterResult.iterrows():\n",
    "            # 개별 좌표 포인트\n",
    "            point = (row['위도'], row['경도'])\n",
    "            d = great_circle(center, point).kilometers\n",
    "            if d <= self.dist:\n",
    "                result = pd.concat([result, filterResult.iloc[index, :].to_frame().T])\n",
    "        result.index = range(len(result))\n",
    "        return result\n",
    "\n",
    "    def plot_by_radius(self, df):\n",
    "\n",
    "\n",
    "        m = folium.Map(location=[self.lat, self.lon], zoom_start=14)\n",
    "\n",
    "        for idx, row in df.iterrows():\n",
    "\n",
    "            lat_ = row['위도']\n",
    "            lon_ = row['경도']\n",
    "\n",
    "            folium.Marker(location=[lat_, lon_],\n",
    "                          radius=15,\n",
    "                          tooltip=row['지점명']).add_to(m)\n",
    "\n",
    "        folium.Circle(radius=dist * 1000,\n",
    "                      location=[lat, lon],\n",
    "                      color=\"#ff7800\",\n",
    "                      fill_color='#ffff00',\n",
    "                      fill_opacity=0.2\n",
    "                      ).add_to(m)\n",
    "\n",
    "        return m._repr_html_()"
   ]
  },
  {
   "cell_type": "code",
   "execution_count": 25,
   "metadata": {},
   "outputs": [],
   "source": [
    "\n",
    "\n",
    "# 파라미터 설정\n",
    "# 35.1613737 129.1479813\n",
    "# n = input(\"현재 위치를 적어주세요:\")\n",
    "# app = Nominatim(user_agent='tutorial')\n",
    "# location = app.geocode('{n}'.format(n=n))\n",
    "# print(location.latitude, location.longitude)\n",
    "\n",
    "lat = 35.1613737\n",
    "lon = 129.1479813\n",
    "dist = 1\n",
    "# 반경 집계 인스턴스 생성\n",
    "cbw = CountByWGS84(df_seoul_starbucks, lat, lon, dist)"
   ]
  },
  {
   "cell_type": "code",
   "execution_count": 26,
   "metadata": {},
   "outputs": [
    {
     "name": "stdout",
     "output_type": "stream",
     "text": [
      "        상호명       지점명 상권업종대분류명 상권업종중분류명    시도명  시군구명 행정동명         위도  \\\n",
      "0      스타벅스     하버타운점       음식   커피점/카페  부산광역시  해운대구  우1동  35.159707   \n",
      "1      스타벅스      벡스코점       음식   커피점/카페  부산광역시  해운대구  우2동  35.169079   \n",
      "2      스타벅스      해운대점       음식   커피점/카페  부산광역시  해운대구  우1동  35.163330   \n",
      "3  스타벅스해운대점      해운대점       음식   커피점/카페  부산광역시  해운대구  중1동  35.160177   \n",
      "4      스타벅스      해운대점       음식   커피점/카페  부산광역시  해운대구  중1동  35.160465   \n",
      "5      스타벅스       NaN       음식   커피점/카페  부산광역시  해운대구  우3동  35.155055   \n",
      "6      스타벅스    더해운대R점       음식   커피점/카페  부산광역시  해운대구  우1동  35.158824   \n",
      "7      스타벅스  신세계마린시티점       음식   커피점/카페  부산광역시  해운대구  우3동  35.157057   \n",
      "8      스타벅스   제니스스퀘어점       음식   커피점/카페  부산광역시  해운대구  우3동  35.157224   \n",
      "9      스타벅스     베네시티점       음식   커피점/카페  부산광역시  해운대구  우3동  35.158186   \n",
      "\n",
      "           경도  \n",
      "0  129.159540  \n",
      "1  129.136039  \n",
      "2  129.159613  \n",
      "3  129.162203  \n",
      "4  129.162273  \n",
      "5  129.145426  \n",
      "6  129.152865  \n",
      "7  129.143357  \n",
      "8  129.144841  \n",
      "9  129.150749  \n"
     ]
    },
    {
     "data": {
      "text/plain": [
       "'<div style=\"width:100%;\"><div style=\"position:relative;width:100%;height:0;padding-bottom:60%;\"><span style=\"color:#565656\">Make this Notebook Trusted to load map: File -> Trust Notebook</span><iframe srcdoc=\"&lt;!DOCTYPE html&gt;\\n&lt;head&gt;    \\n    &lt;meta http-equiv=&quot;content-type&quot; content=&quot;text/html; charset=UTF-8&quot; /&gt;\\n    \\n        &lt;script&gt;\\n            L_NO_TOUCH = false;\\n            L_DISABLE_3D = false;\\n        &lt;/script&gt;\\n    \\n    &lt;style&gt;html, body {width: 100%;height: 100%;margin: 0;padding: 0;}&lt;/style&gt;\\n    &lt;style&gt;#map {position:absolute;top:0;bottom:0;right:0;left:0;}&lt;/style&gt;\\n    &lt;script src=&quot;https://cdn.jsdelivr.net/npm/leaflet@1.6.0/dist/leaflet.js&quot;&gt;&lt;/script&gt;\\n    &lt;script src=&quot;https://code.jquery.com/jquery-1.12.4.min.js&quot;&gt;&lt;/script&gt;\\n    &lt;script src=&quot;https://maxcdn.bootstrapcdn.com/bootstrap/3.2.0/js/bootstrap.min.js&quot;&gt;&lt;/script&gt;\\n    &lt;script src=&quot;https://cdnjs.cloudflare.com/ajax/libs/Leaflet.awesome-markers/2.0.2/leaflet.awesome-markers.js&quot;&gt;&lt;/script&gt;\\n    &lt;link rel=&quot;stylesheet&quot; href=&quot;https://cdn.jsdelivr.net/npm/leaflet@1.6.0/dist/leaflet.css&quot;/&gt;\\n    &lt;link rel=&quot;stylesheet&quot; href=&quot;https://maxcdn.bootstrapcdn.com/bootstrap/3.2.0/css/bootstrap.min.css&quot;/&gt;\\n    &lt;link rel=&quot;stylesheet&quot; href=&quot;https://maxcdn.bootstrapcdn.com/bootstrap/3.2.0/css/bootstrap-theme.min.css&quot;/&gt;\\n    &lt;link rel=&quot;stylesheet&quot; href=&quot;https://maxcdn.bootstrapcdn.com/font-awesome/4.6.3/css/font-awesome.min.css&quot;/&gt;\\n    &lt;link rel=&quot;stylesheet&quot; href=&quot;https://cdnjs.cloudflare.com/ajax/libs/Leaflet.awesome-markers/2.0.2/leaflet.awesome-markers.css&quot;/&gt;\\n    &lt;link rel=&quot;stylesheet&quot; href=&quot;https://cdn.jsdelivr.net/gh/python-visualization/folium/folium/templates/leaflet.awesome.rotate.min.css&quot;/&gt;\\n    \\n            &lt;meta name=&quot;viewport&quot; content=&quot;width=device-width,\\n                initial-scale=1.0, maximum-scale=1.0, user-scalable=no&quot; /&gt;\\n            &lt;style&gt;\\n                #map_4fa31db166aafdd3833c880383ad29dc {\\n                    position: relative;\\n                    width: 100.0%;\\n                    height: 100.0%;\\n                    left: 0.0%;\\n                    top: 0.0%;\\n                }\\n            &lt;/style&gt;\\n        \\n&lt;/head&gt;\\n&lt;body&gt;    \\n    \\n            &lt;div class=&quot;folium-map&quot; id=&quot;map_4fa31db166aafdd3833c880383ad29dc&quot; &gt;&lt;/div&gt;\\n        \\n&lt;/body&gt;\\n&lt;script&gt;    \\n    \\n            var map_4fa31db166aafdd3833c880383ad29dc = L.map(\\n                &quot;map_4fa31db166aafdd3833c880383ad29dc&quot;,\\n                {\\n                    center: [35.1613737, 129.1479813],\\n                    crs: L.CRS.EPSG3857,\\n                    zoom: 14,\\n                    zoomControl: true,\\n                    preferCanvas: false,\\n                }\\n            );\\n\\n            \\n\\n        \\n    \\n            var tile_layer_0630a817b563ee516e77db7be04cdb5d = L.tileLayer(\\n                &quot;https://{s}.tile.openstreetmap.org/{z}/{x}/{y}.png&quot;,\\n                {&quot;attribution&quot;: &quot;Data by \\\\u0026copy; \\\\u003ca href=\\\\&quot;http://openstreetmap.org\\\\&quot;\\\\u003eOpenStreetMap\\\\u003c/a\\\\u003e, under \\\\u003ca href=\\\\&quot;http://www.openstreetmap.org/copyright\\\\&quot;\\\\u003eODbL\\\\u003c/a\\\\u003e.&quot;, &quot;detectRetina&quot;: false, &quot;maxNativeZoom&quot;: 18, &quot;maxZoom&quot;: 18, &quot;minZoom&quot;: 0, &quot;noWrap&quot;: false, &quot;opacity&quot;: 1, &quot;subdomains&quot;: &quot;abc&quot;, &quot;tms&quot;: false}\\n            ).addTo(map_4fa31db166aafdd3833c880383ad29dc);\\n        \\n    \\n            var marker_c146772c40cc966ce3d3af6afed1c851 = L.marker(\\n                [35.1550547584442, 129.145425561113],\\n                {&quot;radius&quot;: 15}\\n            ).addTo(map_4fa31db166aafdd3833c880383ad29dc);\\n        \\n    \\n            marker_c146772c40cc966ce3d3af6afed1c851.bindTooltip(\\n                `&lt;div&gt;\\n                     nan\\n                 &lt;/div&gt;`,\\n                {&quot;sticky&quot;: true}\\n            );\\n        \\n    \\n            var marker_bda3a53a537b406d1f9bc1cd8ee9d3aa = L.marker(\\n                [35.1588240848214, 129.152865147608],\\n                {&quot;radius&quot;: 15}\\n            ).addTo(map_4fa31db166aafdd3833c880383ad29dc);\\n        \\n    \\n            marker_bda3a53a537b406d1f9bc1cd8ee9d3aa.bindTooltip(\\n                `&lt;div&gt;\\n                     더해운대R점\\n                 &lt;/div&gt;`,\\n                {&quot;sticky&quot;: true}\\n            );\\n        \\n    \\n            var marker_90dd16d9f1d5fafbc760dda38f49f57f = L.marker(\\n                [35.1570573391424, 129.143357288326],\\n                {&quot;radius&quot;: 15}\\n            ).addTo(map_4fa31db166aafdd3833c880383ad29dc);\\n        \\n    \\n            marker_90dd16d9f1d5fafbc760dda38f49f57f.bindTooltip(\\n                `&lt;div&gt;\\n                     신세계마린시티점\\n                 &lt;/div&gt;`,\\n                {&quot;sticky&quot;: true}\\n            );\\n        \\n    \\n            var marker_7c8f5c9d3dd42ccee82d5fac7d64be58 = L.marker(\\n                [35.1572236013279, 129.144841326609],\\n                {&quot;radius&quot;: 15}\\n            ).addTo(map_4fa31db166aafdd3833c880383ad29dc);\\n        \\n    \\n            marker_7c8f5c9d3dd42ccee82d5fac7d64be58.bindTooltip(\\n                `&lt;div&gt;\\n                     제니스스퀘어점\\n                 &lt;/div&gt;`,\\n                {&quot;sticky&quot;: true}\\n            );\\n        \\n    \\n            var marker_7e4af7e13997f88c09fa57568178b5c9 = L.marker(\\n                [35.158186196302, 129.150748800901],\\n                {&quot;radius&quot;: 15}\\n            ).addTo(map_4fa31db166aafdd3833c880383ad29dc);\\n        \\n    \\n            marker_7e4af7e13997f88c09fa57568178b5c9.bindTooltip(\\n                `&lt;div&gt;\\n                     베네시티점\\n                 &lt;/div&gt;`,\\n                {&quot;sticky&quot;: true}\\n            );\\n        \\n    \\n            var circle_f3f395eb613b0728eb1f5752a47cbb26 = L.circle(\\n                [35.1613737, 129.1479813],\\n                {&quot;bubblingMouseEvents&quot;: true, &quot;color&quot;: &quot;#ff7800&quot;, &quot;dashArray&quot;: null, &quot;dashOffset&quot;: null, &quot;fill&quot;: true, &quot;fillColor&quot;: &quot;#ffff00&quot;, &quot;fillOpacity&quot;: 0.2, &quot;fillRule&quot;: &quot;evenodd&quot;, &quot;lineCap&quot;: &quot;round&quot;, &quot;lineJoin&quot;: &quot;round&quot;, &quot;opacity&quot;: 1.0, &quot;radius&quot;: 1000, &quot;stroke&quot;: true, &quot;weight&quot;: 3}\\n            ).addTo(map_4fa31db166aafdd3833c880383ad29dc);\\n        \\n&lt;/script&gt;\" style=\"position:absolute;width:100%;height:100%;left:0;top:0;border:none !important;\" allowfullscreen webkitallowfullscreen mozallowfullscreen></iframe></div></div>'"
      ]
     },
     "execution_count": 26,
     "metadata": {},
     "output_type": "execute_result"
    }
   ],
   "source": [
    "# 반경 범위 내 데이터 필터링\n",
    "result_radius = cbw.filter_by_radius()\n",
    "\n",
    "\n",
    "plot_2 = cbw.plot_by_radius(result_radius)\n",
    "plot_2"
   ]
  },
  {
   "cell_type": "code",
   "execution_count": 13,
   "metadata": {},
   "outputs": [],
   "source": []
  },
  {
   "cell_type": "code",
   "execution_count": null,
   "metadata": {},
   "outputs": [],
   "source": []
  },
  {
   "cell_type": "code",
   "execution_count": null,
   "metadata": {},
   "outputs": [],
   "source": []
  },
  {
   "cell_type": "code",
   "execution_count": null,
   "metadata": {},
   "outputs": [],
   "source": []
  },
  {
   "cell_type": "code",
   "execution_count": null,
   "metadata": {},
   "outputs": [],
   "source": []
  },
  {
   "cell_type": "code",
   "execution_count": null,
   "metadata": {},
   "outputs": [],
   "source": []
  },
  {
   "cell_type": "code",
   "execution_count": null,
   "metadata": {},
   "outputs": [],
   "source": []
  }
 ],
 "metadata": {
  "kernelspec": {
   "display_name": "Python 3 (ipykernel)",
   "language": "python",
   "name": "python3"
  },
  "language_info": {
   "codemirror_mode": {
    "name": "ipython",
    "version": 3
   },
   "file_extension": ".py",
   "mimetype": "text/x-python",
   "name": "python",
   "nbconvert_exporter": "python",
   "pygments_lexer": "ipython3",
   "version": "3.9.12"
  }
 },
 "nbformat": 4,
 "nbformat_minor": 4
}
